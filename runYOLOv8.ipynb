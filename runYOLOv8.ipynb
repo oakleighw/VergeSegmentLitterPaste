{
 "cells": [
  {
   "cell_type": "code",
   "execution_count": 1,
   "id": "bdfab9a5",
   "metadata": {},
   "outputs": [],
   "source": [
    "from ultralytics import YOLO"
   ]
  },
  {
   "cell_type": "code",
   "execution_count": 2,
   "id": "315099f4",
   "metadata": {},
   "outputs": [
    {
     "name": "stdout",
     "output_type": "stream",
     "text": [
      "True\n",
      "0\n",
      "3.7.13 (default, Mar 29 2022, 02:18:16) \n",
      "[GCC 7.5.0]\n",
      "1.12.0\n"
     ]
    }
   ],
   "source": [
    "import torch\n",
    "print(torch.cuda.is_available())\n",
    "print(torch.cuda.current_device())\n",
    "import sys\n",
    "print(sys.version)\n",
    "print(torch.__version__)"
   ]
  },
  {
   "cell_type": "code",
   "execution_count": 6,
   "id": "79be5b24",
   "metadata": {},
   "outputs": [],
   "source": [
    "# Load a model\n",
    "model = YOLO(\"yolov8l.pt\")  # load a pretrained model (recommended for training)"
   ]
  },
  {
   "cell_type": "code",
   "execution_count": 7,
   "id": "80bfb22f",
   "metadata": {},
   "outputs": [
    {
     "data": {
      "text/html": [
       "\n",
       "      <iframe id=\"tensorboard-frame-9c740bbbb874bc99\" width=\"100%\" height=\"800\" frameborder=\"0\">\n",
       "      </iframe>\n",
       "      <script>\n",
       "        (function() {\n",
       "          const frame = document.getElementById(\"tensorboard-frame-9c740bbbb874bc99\");\n",
       "          const url = new URL(\"/\", window.location);\n",
       "          const port = 16006;\n",
       "          if (port) {\n",
       "            url.port = port;\n",
       "          }\n",
       "          frame.src = url;\n",
       "        })();\n",
       "      </script>\n",
       "    "
      ],
      "text/plain": [
       "<IPython.core.display.HTML object>"
      ]
     },
     "metadata": {},
     "output_type": "display_data"
    }
   ],
   "source": [
    "%load_ext tensorboard\n",
    "%tensorboard --port 16006 --host 0.0.0.0 --logdir /workspace/yoloV8_2/ultralytics/runs"
   ]
  },
  {
   "cell_type": "code",
   "execution_count": 8,
   "id": "e652d783",
   "metadata": {
    "scrolled": true
   },
   "outputs": [
    {
     "name": "stderr",
     "output_type": "stream",
     "text": [
      "New https://pypi.org/project/ultralytics/8.0.154 available 😃 Update with 'pip install -U ultralytics'\n",
      "Ultralytics YOLOv8.0.110 🚀 Python-3.7.13 torch-1.12.0 CUDA:0 (TITAN V, 12067MiB)\n",
      "WARNING ⚠️ Upgrade to torch>=2.0.0 for deterministic training.\n",
      "\u001b[34m\u001b[1myolo/engine/trainer: \u001b[0mtask=detect, mode=train, model=yolov8l.pt, data=/workspace/gvData/GV_paperDS_yolo/data.yaml, epochs=20, patience=50, batch=5, imgsz=896, save=True, save_period=-1, cache=False, device=None, workers=8, project=None, name=None, exist_ok=False, pretrained=False, optimizer=SGD, verbose=True, seed=0, deterministic=True, single_cls=False, rect=False, cos_lr=False, close_mosaic=0, resume=False, amp=True, fraction=1.0, profile=False, overlap_mask=True, mask_ratio=4, dropout=0.0, val=True, split=val, save_json=False, save_hybrid=False, conf=None, iou=0.3, max_det=300, half=False, dnn=False, plots=True, source=None, show=False, save_txt=False, save_conf=False, save_crop=False, show_labels=True, show_conf=True, vid_stride=1, line_width=None, visualize=False, augment=False, agnostic_nms=False, classes=None, retina_masks=False, boxes=True, format=torchscript, keras=False, optimize=False, int8=False, dynamic=False, simplify=False, opset=None, workspace=4, nms=False, lr0=0.001, lrf=0.01, momentum=0.937, weight_decay=0.05, warmup_epochs=10, warmup_momentum=0.8, warmup_bias_lr=0.1, box=7.5, cls=0.5, dfl=1.5, pose=12.0, kobj=1.0, label_smoothing=0.0, nbs=64, hsv_h=0.015, hsv_s=0.7, hsv_v=0.4, degrees=0.0, translate=0.1, scale=0.5, shear=0.0, perspective=0.0, flipud=0.0, fliplr=0.5, mosaic=1.0, mixup=0.0, copy_paste=0.0, cfg=None, v5loader=False, tracker=botsort.yaml, save_dir=/workspace/yoloV8_2/ultralytics/runs/detect/train17\n",
      "Overriding model.yaml nc=80 with nc=1\n",
      "\n",
      "                   from  n    params  module                                       arguments                     \n",
      "  0                  -1  1      1856  ultralytics.nn.modules.conv.Conv             [3, 64, 3, 2]                 \n",
      "  1                  -1  1     73984  ultralytics.nn.modules.conv.Conv             [64, 128, 3, 2]               \n",
      "  2                  -1  3    279808  ultralytics.nn.modules.block.C2f             [128, 128, 3, True]           \n",
      "  3                  -1  1    295424  ultralytics.nn.modules.conv.Conv             [128, 256, 3, 2]              \n",
      "  4                  -1  6   2101248  ultralytics.nn.modules.block.C2f             [256, 256, 6, True]           \n",
      "  5                  -1  1   1180672  ultralytics.nn.modules.conv.Conv             [256, 512, 3, 2]              \n",
      "  6                  -1  6   8396800  ultralytics.nn.modules.block.C2f             [512, 512, 6, True]           \n",
      "  7                  -1  1   2360320  ultralytics.nn.modules.conv.Conv             [512, 512, 3, 2]              \n",
      "  8                  -1  3   4461568  ultralytics.nn.modules.block.C2f             [512, 512, 3, True]           \n",
      "  9                  -1  1    656896  ultralytics.nn.modules.block.SPPF            [512, 512, 5]                 \n",
      " 10                  -1  1         0  torch.nn.modules.upsampling.Upsample         [None, 2, 'nearest']          \n",
      " 11             [-1, 6]  1         0  ultralytics.nn.modules.conv.Concat           [1]                           \n",
      " 12                  -1  3   4723712  ultralytics.nn.modules.block.C2f             [1024, 512, 3]                \n",
      " 13                  -1  1         0  torch.nn.modules.upsampling.Upsample         [None, 2, 'nearest']          \n",
      " 14             [-1, 4]  1         0  ultralytics.nn.modules.conv.Concat           [1]                           \n",
      " 15                  -1  3   1247744  ultralytics.nn.modules.block.C2f             [768, 256, 3]                 \n",
      " 16                  -1  1    590336  ultralytics.nn.modules.conv.Conv             [256, 256, 3, 2]              \n",
      " 17            [-1, 12]  1         0  ultralytics.nn.modules.conv.Concat           [1]                           \n",
      " 18                  -1  3   4592640  ultralytics.nn.modules.block.C2f             [768, 512, 3]                 \n",
      " 19                  -1  1   2360320  ultralytics.nn.modules.conv.Conv             [512, 512, 3, 2]              \n",
      " 20             [-1, 9]  1         0  ultralytics.nn.modules.conv.Concat           [1]                           \n",
      " 21                  -1  3   4723712  ultralytics.nn.modules.block.C2f             [1024, 512, 3]                \n",
      " 22        [15, 18, 21]  1   5583571  ultralytics.nn.modules.head.Detect           [1, [256, 512, 512]]          \n",
      "Model summary: 365 layers, 43630611 parameters, 43630595 gradients, 165.4 GFLOPs\n",
      "\n",
      "Transferred 589/595 items from pretrained weights\n",
      "\u001b[34m\u001b[1mTensorBoard: \u001b[0mStart with 'tensorboard --logdir /workspace/yoloV8_2/ultralytics/runs/detect/train17', view at http://localhost:6006/\n",
      "\u001b[34m\u001b[1mwandb\u001b[0m: Currently logged in as: \u001b[33moakleighw\u001b[0m. Use \u001b[1m`wandb login --relogin`\u001b[0m to force relogin\n"
     ]
    },
    {
     "data": {
      "text/html": [
       "wandb version 0.15.8 is available!  To upgrade, please run:\n",
       " $ pip install wandb --upgrade"
      ],
      "text/plain": [
       "<IPython.core.display.HTML object>"
      ]
     },
     "metadata": {},
     "output_type": "display_data"
    },
    {
     "data": {
      "text/html": [
       "Tracking run with wandb version 0.15.5"
      ],
      "text/plain": [
       "<IPython.core.display.HTML object>"
      ]
     },
     "metadata": {},
     "output_type": "display_data"
    },
    {
     "data": {
      "text/html": [
       "Run data is saved locally in <code>/workspace/yoloV8_2/ultralytics/wandb/run-20230814_112803-70ebp8vq</code>"
      ],
      "text/plain": [
       "<IPython.core.display.HTML object>"
      ]
     },
     "metadata": {},
     "output_type": "display_data"
    },
    {
     "data": {
      "text/html": [
       "Syncing run <strong><a href='https://wandb.ai/oakleighw/YOLOv8/runs/70ebp8vq' target=\"_blank\">robust-sky-44</a></strong> to <a href='https://wandb.ai/oakleighw/YOLOv8' target=\"_blank\">Weights & Biases</a> (<a href='https://wandb.me/run' target=\"_blank\">docs</a>)<br/>"
      ],
      "text/plain": [
       "<IPython.core.display.HTML object>"
      ]
     },
     "metadata": {},
     "output_type": "display_data"
    },
    {
     "data": {
      "text/html": [
       " View project at <a href='https://wandb.ai/oakleighw/YOLOv8' target=\"_blank\">https://wandb.ai/oakleighw/YOLOv8</a>"
      ],
      "text/plain": [
       "<IPython.core.display.HTML object>"
      ]
     },
     "metadata": {},
     "output_type": "display_data"
    },
    {
     "data": {
      "text/html": [
       " View run at <a href='https://wandb.ai/oakleighw/YOLOv8/runs/70ebp8vq' target=\"_blank\">https://wandb.ai/oakleighw/YOLOv8/runs/70ebp8vq</a>"
      ],
      "text/plain": [
       "<IPython.core.display.HTML object>"
      ]
     },
     "metadata": {},
     "output_type": "display_data"
    },
    {
     "name": "stderr",
     "output_type": "stream",
     "text": [
      "\u001b[34m\u001b[1mAMP: \u001b[0mrunning Automatic Mixed Precision (AMP) checks with YOLOv8n...\n",
      "\u001b[34m\u001b[1mAMP: \u001b[0mchecks passed ✅\n",
      "\u001b[34m\u001b[1moptimizer:\u001b[0m SGD(lr=0.001) with parameter groups 97 weight(decay=0.0), 104 weight(decay=0.05078125), 103 bias\n",
      "\u001b[34m\u001b[1mtrain: \u001b[0mScanning /workspace/gvData/GV_paperDS_yolo/external_output_blend/labels... 8895 images\u001b[0m\n",
      "\u001b[34m\u001b[1mtrain: \u001b[0mNew cache created: /workspace/gvData/GV_paperDS_yolo/external_output_blend/labels.cache\n",
      "\u001b[34m\u001b[1malbumentations: \u001b[0m\n",
      "\u001b[34m\u001b[1mval: \u001b[0mScanning /workspace/gvData/GV_paperDS_yolo/valid/labels.cache... 1201 images, 0 backgrou\u001b[0m\n",
      "\u001b[34m\u001b[1mval: \u001b[0mWARNING ⚠️ /workspace/gvData/GV_paperDS_yolo/valid/images/20220605231413_000097_Trim_frame4228.jpg: 2 duplicate labels removed\n",
      "Plotting labels to /workspace/yoloV8_2/ultralytics/runs/detect/train17/labels.jpg... \n",
      "Image sizes 896 train, 896 val\n",
      "Using 5 dataloader workers\n",
      "Logging results to \u001b[1m/workspace/yoloV8_2/ultralytics/runs/detect/train17\u001b[0m\n",
      "Starting training for 20 epochs...\n",
      "\n",
      "      Epoch    GPU_mem   box_loss   cls_loss   dfl_loss  Instances       Size\n",
      "       1/20      6.55G      2.353      2.865      1.093         21        896: 100%|█████████\n",
      "                 Class     Images  Instances      Box(P          R      mAP50  mAP50-95): 100\n",
      "                   all       1201       2092      0.673      0.529      0.572      0.205\n",
      "\n",
      "      Epoch    GPU_mem   box_loss   cls_loss   dfl_loss  Instances       Size\n",
      "       2/20      7.06G      2.071      1.537     0.9979         21        896: 100%|█████████\n",
      "                 Class     Images  Instances      Box(P          R      mAP50  mAP50-95): 100\n",
      "                   all       1201       2092      0.685      0.598      0.629      0.222\n",
      "\n",
      "      Epoch    GPU_mem   box_loss   cls_loss   dfl_loss  Instances       Size\n",
      "       3/20      6.87G      2.004      1.357     0.9793          9        896: 100%|█████████\n",
      "                 Class     Images  Instances      Box(P          R      mAP50  mAP50-95): 100\n",
      "                   all       1201       2092      0.728      0.646      0.701      0.267\n",
      "\n",
      "      Epoch    GPU_mem   box_loss   cls_loss   dfl_loss  Instances       Size\n",
      "       4/20      6.87G      1.969      1.279     0.9718         22        896: 100%|█████████\n",
      "                 Class     Images  Instances      Box(P          R      mAP50  mAP50-95): 100\n",
      "                   all       1201       2092      0.735      0.666      0.719      0.288\n",
      "\n",
      "      Epoch    GPU_mem   box_loss   cls_loss   dfl_loss  Instances       Size\n",
      "       5/20      6.87G      1.938      1.213     0.9663         13        896: 100%|█████████\n",
      "                 Class     Images  Instances      Box(P          R      mAP50  mAP50-95): 100\n",
      "                   all       1201       2092      0.735       0.67      0.733      0.295\n",
      "\n",
      "      Epoch    GPU_mem   box_loss   cls_loss   dfl_loss  Instances       Size\n",
      "       6/20      6.87G      1.913      1.177     0.9675         18        896: 100%|█████████\n",
      "                 Class     Images  Instances      Box(P          R      mAP50  mAP50-95): 100\n",
      "                   all       1201       2092      0.727      0.689       0.74      0.297\n",
      "\n",
      "      Epoch    GPU_mem   box_loss   cls_loss   dfl_loss  Instances       Size\n",
      "       7/20      6.86G      1.919      1.149     0.9615         11        896: 100%|█████████\n",
      "                 Class     Images  Instances      Box(P          R      mAP50  mAP50-95): 100\n",
      "                   all       1201       2092      0.752       0.67      0.749      0.302\n",
      "\n",
      "      Epoch    GPU_mem   box_loss   cls_loss   dfl_loss  Instances       Size\n",
      "       8/20      6.79G      1.913      1.131     0.9535         11        896: 100%|█████████\n",
      "                 Class     Images  Instances      Box(P          R      mAP50  mAP50-95): 100\n",
      "                   all       1201       2092      0.741      0.701      0.754      0.308\n",
      "\n",
      "      Epoch    GPU_mem   box_loss   cls_loss   dfl_loss  Instances       Size\n",
      "       9/20      6.87G      1.911      1.142     0.9541         13        896: 100%|█████████\n",
      "                 Class     Images  Instances      Box(P          R      mAP50  mAP50-95): 100\n",
      "                   all       1201       2092      0.741      0.706      0.759      0.312\n",
      "\n",
      "      Epoch    GPU_mem   box_loss   cls_loss   dfl_loss  Instances       Size\n",
      "      10/20      6.86G      1.911      1.133     0.9622         15        896: 100%|█████████\n",
      "                 Class     Images  Instances      Box(P          R      mAP50  mAP50-95): 100\n",
      "                   all       1201       2092      0.756      0.682      0.742      0.307\n",
      "\n",
      "      Epoch    GPU_mem   box_loss   cls_loss   dfl_loss  Instances       Size\n",
      "      11/20      6.88G      1.901      1.119     0.9547         13        896: 100%|█████████\n",
      "                 Class     Images  Instances      Box(P          R      mAP50  mAP50-95): 100\n",
      "                   all       1201       2092       0.74      0.694      0.746      0.306\n",
      "\n",
      "      Epoch    GPU_mem   box_loss   cls_loss   dfl_loss  Instances       Size\n",
      "      12/20      6.86G      1.901      1.115     0.9549         23        896: 100%|█████████\n",
      "                 Class     Images  Instances      Box(P          R      mAP50  mAP50-95): 100\n",
      "                   all       1201       2092      0.761      0.713      0.773      0.315\n",
      "\n",
      "      Epoch    GPU_mem   box_loss   cls_loss   dfl_loss  Instances       Size\n",
      "      13/20      6.87G      1.878      1.087      0.946          7        896: 100%|█████████\n",
      "                 Class     Images  Instances      Box(P          R      mAP50  mAP50-95): 100\n",
      "                   all       1201       2092      0.729      0.714      0.752      0.304\n",
      "\n",
      "      Epoch    GPU_mem   box_loss   cls_loss   dfl_loss  Instances       Size\n",
      "      14/20      6.87G      1.859      1.064     0.9447         27        896: 100%|█████████\n",
      "                 Class     Images  Instances      Box(P          R      mAP50  mAP50-95): 100\n",
      "                   all       1201       2092      0.757      0.724      0.773      0.314\n",
      "\n",
      "      Epoch    GPU_mem   box_loss   cls_loss   dfl_loss  Instances       Size\n",
      "      15/20      6.87G       1.84      1.034     0.9495         15        896: 100%|█████████\n",
      "                 Class     Images  Instances      Box(P          R      mAP50  mAP50-95): 100\n",
      "                   all       1201       2092      0.768      0.712      0.776      0.314\n",
      "\n",
      "      Epoch    GPU_mem   box_loss   cls_loss   dfl_loss  Instances       Size\n",
      "      16/20      6.86G      1.817      1.014       0.94         20        896: 100%|█████████\n",
      "                 Class     Images  Instances      Box(P          R      mAP50  mAP50-95): 100\n",
      "                   all       1201       2092      0.766      0.734      0.786       0.32\n",
      "\n",
      "      Epoch    GPU_mem   box_loss   cls_loss   dfl_loss  Instances       Size\n",
      "      17/20      6.87G      1.807     0.9944     0.9317         10        896: 100%|█████████\n",
      "                 Class     Images  Instances      Box(P          R      mAP50  mAP50-95): 100\n",
      "                   all       1201       2092      0.775      0.712      0.782      0.326\n",
      "\n",
      "      Epoch    GPU_mem   box_loss   cls_loss   dfl_loss  Instances       Size\n",
      "      18/20      6.86G      1.781     0.9663     0.9302         13        896: 100%|█████████\n",
      "                 Class     Images  Instances      Box(P          R      mAP50  mAP50-95): 100\n",
      "                   all       1201       2092       0.78      0.716      0.787      0.327\n",
      "\n",
      "      Epoch    GPU_mem   box_loss   cls_loss   dfl_loss  Instances       Size\n",
      "      19/20      6.87G      1.771     0.9396     0.9256         11        896: 100%|█████████\n",
      "                 Class     Images  Instances      Box(P          R      mAP50  mAP50-95): 100\n",
      "                   all       1201       2092      0.758      0.746      0.797      0.331\n",
      "\n",
      "      Epoch    GPU_mem   box_loss   cls_loss   dfl_loss  Instances       Size\n",
      "      20/20      6.91G      1.734     0.9117      0.919         20        896: 100%|█████████\n",
      "                 Class     Images  Instances      Box(P          R      mAP50  mAP50-95): 100\n",
      "                   all       1201       2092       0.79      0.723      0.796      0.333\n",
      "\n",
      "20 epochs completed in 2.079 hours.\n",
      "Optimizer stripped from /workspace/yoloV8_2/ultralytics/runs/detect/train17/weights/last.pt, 87.7MB\n"
     ]
    },
    {
     "name": "stderr",
     "output_type": "stream",
     "text": [
      "Optimizer stripped from /workspace/yoloV8_2/ultralytics/runs/detect/train17/weights/best.pt, 87.7MB\n",
      "\n",
      "Validating /workspace/yoloV8_2/ultralytics/runs/detect/train17/weights/best.pt...\n",
      "Ultralytics YOLOv8.0.110 🚀 Python-3.7.13 torch-1.12.0 CUDA:0 (TITAN V, 12067MiB)\n",
      "Model summary (fused): 268 layers, 43607379 parameters, 0 gradients, 164.8 GFLOPs\n",
      "                 Class     Images  Instances      Box(P          R      mAP50  mAP50-95): 100\n",
      "                   all       1201       2092       0.79      0.722      0.796      0.333\n",
      "Speed: 0.3ms preprocess, 6.5ms inference, 0.0ms loss, 0.9ms postprocess per image\n",
      "Results saved to \u001b[1m/workspace/yoloV8_2/ultralytics/runs/detect/train17\u001b[0m\n",
      "Ultralytics YOLOv8.0.110 🚀 Python-3.7.13 torch-1.12.0 CUDA:0 (TITAN V, 12067MiB)\n",
      "Model summary (fused): 268 layers, 43607379 parameters, 0 gradients, 164.8 GFLOPs\n",
      "\u001b[34m\u001b[1mval: \u001b[0mScanning /workspace/gvData/GV_paperDS_yolo/valid/labels.cache... 1201 images, 0 backgrou\u001b[0m\n",
      "\u001b[34m\u001b[1mval: \u001b[0mWARNING ⚠️ /workspace/gvData/GV_paperDS_yolo/valid/images/20220605231413_000097_Trim_frame4228.jpg: 2 duplicate labels removed\n",
      "                 Class     Images  Instances      Box(P          R      mAP50  mAP50-95): 100\n",
      "                   all       1201       2092      0.788      0.722      0.796      0.334\n",
      "Speed: 0.3ms preprocess, 15.9ms inference, 0.0ms loss, 1.0ms postprocess per image\n",
      "Results saved to \u001b[1m/workspace/yoloV8_2/ultralytics/runs/detect/val4\u001b[0m\n"
     ]
    }
   ],
   "source": [
    "# Use the model\n",
    "results = model.train(data=\"/workspace/gvData/GV_paperDS_yolo/data.yaml\", epochs=20, batch=5, lr0= 0.001, iou=0.3, warmup_epochs=10, weight_decay=0.05, imgsz=896)  # train the model\n",
    "results = model.val()  # evaluate model performance on the validation set"
   ]
  },
  {
   "cell_type": "code",
   "execution_count": 10,
   "id": "d0075713",
   "metadata": {},
   "outputs": [
    {
     "name": "stderr",
     "output_type": "stream",
     "text": [
      "Ultralytics YOLOv8.0.110 🚀 Python-3.7.13 torch-1.12.0 CUDA:0 (TITAN V, 12067MiB)\n",
      "\u001b[34m\u001b[1mval: \u001b[0mScanning /workspace/gvData/GV_paperDS_yolo/test/labels.cache... 2374 images, 0 backgroun\u001b[0m\n",
      "                 Class     Images  Instances      Box(P          R      mAP50  mAP50-95): 100\n",
      "                   all       2374       4189      0.764      0.707      0.767      0.326\n",
      "Speed: 0.2ms preprocess, 15.9ms inference, 0.0ms loss, 1.1ms postprocess per image\n",
      "Results saved to \u001b[1m/workspace/yoloV8_2/ultralytics/runs/detect/val6\u001b[0m\n"
     ]
    }
   ],
   "source": [
    "#change to test data in data.yaml\n",
    "results = model.val(data=\"/workspace/gvData/GV_paperDS_yolo/data.yaml\",imgsz=896, iou = 0.3)"
   ]
  }
 ],
 "metadata": {
  "kernelspec": {
   "display_name": "Python 3 (ipykernel)",
   "language": "python",
   "name": "python3"
  },
  "language_info": {
   "codemirror_mode": {
    "name": "ipython",
    "version": 3
   },
   "file_extension": ".py",
   "mimetype": "text/x-python",
   "name": "python",
   "nbconvert_exporter": "python",
   "pygments_lexer": "ipython3",
   "version": "3.7.13"
  }
 },
 "nbformat": 4,
 "nbformat_minor": 5
}
