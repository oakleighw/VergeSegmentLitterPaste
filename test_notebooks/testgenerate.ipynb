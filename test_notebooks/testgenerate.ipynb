{
 "cells": [
  {
   "cell_type": "code",
   "execution_count": 1,
   "id": "2049799c",
   "metadata": {},
   "outputs": [
    {
     "ename": "SyntaxError",
     "evalue": "invalid syntax (662952508.py, line 1)",
     "output_type": "error",
     "traceback": [
      "\u001b[1;36m  File \u001b[1;32m\"C:\\Users\\Computing\\AppData\\Local\\Temp\\ipykernel_3312\\662952508.py\"\u001b[1;36m, line \u001b[1;32m1\u001b[0m\n\u001b[1;33m    from LitterStyle-DataSynthesis.stylecopypaste.datasets.create import dataset\u001b[0m\n\u001b[1;37m                    ^\u001b[0m\n\u001b[1;31mSyntaxError\u001b[0m\u001b[1;31m:\u001b[0m invalid syntax\n"
     ]
    }
   ],
   "source": [
    "from stylecopypaste.datasets.create import dataset"
   ]
  },
  {
   "cell_type": "code",
   "execution_count": 2,
   "id": "70dffa7a",
   "metadata": {},
   "outputs": [],
   "source": [
    "src = r\"C:\\Users\\Computing\\OneDrive - University of Lincoln\\MSc Intelligent Vision\\Project\\copy-paste\\dataset_creator\\test_files\"\n",
    "dest = r\"C:\\Users\\Computing\\OneDrive - University of Lincoln\\MSc Intelligent Vision\\Project\\copy-paste\\dataset_creator\\synth\"\n",
    "\n",
    "points_p = r\"C:\\Users\\Computing\\OneDrive - University of Lincoln\\MSc Intelligent Vision\\Project\\copy-paste\\Training02.csv\"\n",
    "\n",
    "style_weights = r\"C:\\Users\\Computing\\OneDrive - University of Lincoln\\MSc Intelligent Vision\\Project\\copy-paste\\style_checkpoints\\litter_style_checkpoint\"\n",
    "####random placement\n",
    "#ds = dataset(src,dest,\"random\")\n",
    "####points placement\n",
    "#ds = dataset(src,dest,\"points\",pts = points_p)\n",
    "####segment placement\n",
    "#ds = dataset(src,dest,\"seg\",pts = points_p)\n",
    "\n",
    "\n",
    "####random placement w/ style\n",
    "ds = dataset(src,dest,\"random\",style=style_weights)\n",
    "\n",
    "\n",
    "\n",
    "\n",
    "\n"
   ]
  },
  {
   "cell_type": "code",
   "execution_count": 3,
   "id": "ce7ca92d",
   "metadata": {},
   "outputs": [
    {
     "name": "stdout",
     "output_type": "stream",
     "text": [
      "Loading Taco Data...\n",
      "loading annotations into memory...\n",
      "Done (t=0.18s)\n",
      "creating index...\n",
      "index created!\n"
     ]
    },
    {
     "name": "stderr",
     "output_type": "stream",
     "text": [
      "100%|██████████████████████████████████████████████████████████████████████████████████| 15/15 [00:00<00:00, 18.98it/s]\n"
     ]
    },
    {
     "name": "stdout",
     "output_type": "stream",
     "text": [
      "Generating Images (Wait while I litter)...\n"
     ]
    },
    {
     "name": "stderr",
     "output_type": "stream",
     "text": [
      "  0%|                                                                                            | 0/3 [00:00<?, ?it/s]\n",
      "100%|████████████████████████████████████████████████████████████████████████████████████| 2/2 [00:00<00:00, 34.00it/s]\u001b[A\n",
      " 33%|████████████████████████████                                                        | 1/3 [00:02<00:04,  2.03s/it]\n",
      "100%|████████████████████████████████████████████████████████████████████████████████████| 2/2 [00:00<00:00, 35.50it/s]\u001b[A\n",
      " 67%|████████████████████████████████████████████████████████                            | 2/3 [00:02<00:00,  1.03it/s]\n",
      "100%|████████████████████████████████████████████████████████████████████████████████████| 2/2 [00:00<00:00, 31.97it/s]\u001b[A\n",
      "100%|████████████████████████████████████████████████████████████████████████████████████| 3/3 [00:02<00:00,  1.19it/s]"
     ]
    },
    {
     "name": "stdout",
     "output_type": "stream",
     "text": [
      "Done!\n"
     ]
    },
    {
     "name": "stderr",
     "output_type": "stream",
     "text": [
      "\n"
     ]
    }
   ],
   "source": [
    "taco_p = r\"C:\\Users\\Computing\\OneDrive - University of Lincoln\\MSc Intelligent Vision\\Project\\copy-paste\\TACO\\TACO-master\\data\"\n",
    "ds.generate(taco_p)"
   ]
  },
  {
   "cell_type": "code",
   "execution_count": null,
   "id": "182aa840",
   "metadata": {},
   "outputs": [],
   "source": []
  }
 ],
 "metadata": {
  "kernelspec": {
   "display_name": "Python 3 (ipykernel)",
   "language": "python",
   "name": "python3"
  },
  "language_info": {
   "codemirror_mode": {
    "name": "ipython",
    "version": 3
   },
   "file_extension": ".py",
   "mimetype": "text/x-python",
   "name": "python",
   "nbconvert_exporter": "python",
   "pygments_lexer": "ipython3",
   "version": "3.9.16"
  }
 },
 "nbformat": 4,
 "nbformat_minor": 5
}
