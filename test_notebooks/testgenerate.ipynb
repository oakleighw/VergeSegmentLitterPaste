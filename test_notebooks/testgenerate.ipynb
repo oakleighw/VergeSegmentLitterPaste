{
 "cells": [
  {
   "cell_type": "code",
   "execution_count": 1,
   "id": "2049799c",
   "metadata": {},
   "outputs": [],
   "source": [
    "from stylecopypaste.datasets.create import dataset"
   ]
  },
  {
   "cell_type": "code",
   "execution_count": 2,
   "id": "70dffa7a",
   "metadata": {},
   "outputs": [],
   "source": [
    "#Path to directory of images/labels in yolo format\n",
    "#src = r\"C:\\Users\\Computing\\OneDrive - University of Lincoln\\MSc Intelligent Vision\\Project\\copy-paste\\dataset_creator\\test_files\"\n",
    "src = r\"C:\\Users\\Computing\\OneDrive - University of Lincoln (1)\\Documents\\external_roads\\all_roads\"\n",
    "\n",
    "#New dataset save destination\n",
    "#dest = r\"C:\\Users\\Computing\\OneDrive - University of Lincoln\\MSc Intelligent Vision\\Project\\copy-paste\\dataset_creator\\synth\"\n",
    "dest = r\"C:\\Users\\Computing\\OneDrive - University of Lincoln (1)\\Documents\\external_roads\\external_output_blend\"\n",
    "\n",
    "#Path to training data points (csv)[filename xmin ymin ymax class width height]\n",
    "points_p = r\"C:\\Users\\Computing\\OneDrive - University of Lincoln\\MSc Intelligent Vision\\Project\\copy-paste\\Training02.csv\"\n",
    "\n",
    "\n",
    "#checkpoint trained on style of dashlit data\n",
    "#If using SAM, put original trained model weights in directory also\n",
    "\n",
    "style_weights = r\"C:\\Users\\Computing\\OneDrive - University of Lincoln\\MSc Intelligent Vision\\Project\\copy-paste\\style_checkpoints\\litter_style_checkpoint\"\n",
    "####random placement\n",
    "#ds = dataset(src,dest,\"random\")\n",
    "####points placement\n",
    "ds = dataset(src,dest,\"points\",pts = points_p,blend=True)\n",
    "####segment placement\n",
    "#ds = dataset(src,dest,\"seg\",pts = points_p)\n",
    "\n",
    "\n",
    "####random placement w/style\n",
    "#ds = dataset(src,dest,\"random\",style=style_weights)\n",
    "\n",
    "####points placement w/ style\n",
    "#ds = dataset(src,dest,\"points\",style=style_weights,pts = points_p)\n",
    "\n",
    "####segment placement w/style. Need original weights for this.\n",
    "#ds = dataset(src,dest,\"seg\",style=style_weights,pts = points_p)\n",
    "\n",
    "\n",
    "\n",
    "\n"
   ]
  },
  {
   "cell_type": "code",
   "execution_count": 3,
   "id": "ce7ca92d",
   "metadata": {},
   "outputs": [
    {
     "name": "stdout",
     "output_type": "stream",
     "text": [
      "Loading Taco Data...\n",
      "loading annotations into memory...\n",
      "Done (t=0.08s)\n",
      "creating index...\n",
      "index created!\n"
     ]
    },
    {
     "name": "stderr",
     "output_type": "stream",
     "text": [
      "100%|██████████████████████████████████████████████████████████████████████████████| 1500/1500 [05:52<00:00,  4.25it/s]\n"
     ]
    },
    {
     "name": "stdout",
     "output_type": "stream",
     "text": [
      "Generating Images (Wait while I litter)...\n"
     ]
    },
    {
     "data": {
      "application/vnd.jupyter.widget-view+json": {
       "model_id": "f8d9e5aec7d447fd8b22bab3b2110927",
       "version_major": 2,
       "version_minor": 0
      },
      "text/plain": [
       "  0%|          | 0/918 [00:00<?, ?it/s]"
      ]
     },
     "metadata": {},
     "output_type": "display_data"
    },
    {
     "name": "stdout",
     "output_type": "stream",
     "text": [
      "Done!\n"
     ]
    }
   ],
   "source": [
    "taco_p = r\"C:\\Users\\Computing\\OneDrive - University of Lincoln\\MSc Intelligent Vision\\Project\\copy-paste\\TACO\\TACO-master\\data\"\n",
    "ds.generate(taco_p)"
   ]
  },
  {
   "cell_type": "code",
   "execution_count": null,
   "id": "182aa840",
   "metadata": {},
   "outputs": [],
   "source": []
  }
 ],
 "metadata": {
  "kernelspec": {
   "display_name": "Python 3 (ipykernel)",
   "language": "python",
   "name": "python3"
  },
  "language_info": {
   "codemirror_mode": {
    "name": "ipython",
    "version": 3
   },
   "file_extension": ".py",
   "mimetype": "text/x-python",
   "name": "python",
   "nbconvert_exporter": "python",
   "pygments_lexer": "ipython3",
   "version": "3.9.16"
  }
 },
 "nbformat": 4,
 "nbformat_minor": 5
}
