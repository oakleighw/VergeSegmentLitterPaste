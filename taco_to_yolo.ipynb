{
 "cells": [
  {
   "cell_type": "code",
   "execution_count": 3,
   "id": "9f75b4d3",
   "metadata": {},
   "outputs": [],
   "source": [
    "from pycocotools.coco import COCO\n",
    "import cv2\n",
    "import os\n",
    "from tqdm import tqdm\n",
    "\n",
    "#Converts taco annotations from coco to yolo format\n",
    "taco_p = r\"C:\\Users\\Computing\\OneDrive - University of Lincoln (1)\\Documents\\TACO\\TACO\\data\"\n",
    "\n",
    "def getTaco(p):   \n",
    "    ann_path = os.path.join(p, \"annotations.json\")\n",
    "    coco = COCO(ann_path)\n",
    "    return coco"
   ]
  },
  {
   "cell_type": "code",
   "execution_count": 4,
   "id": "640d6cfd",
   "metadata": {},
   "outputs": [
    {
     "name": "stdout",
     "output_type": "stream",
     "text": [
      "loading annotations into memory...\n",
      "Done (t=0.07s)\n",
      "creating index...\n",
      "index created!\n"
     ]
    }
   ],
   "source": [
    "t = getTaco(taco_p)"
   ]
  },
  {
   "cell_type": "code",
   "execution_count": 32,
   "id": "b412cac3",
   "metadata": {},
   "outputs": [
    {
     "name": "stderr",
     "output_type": "stream",
     "text": [
      "100%|███████████████████████████████████████████████████████████████████████████████████████████████████████████████████████████████████████████████████████████████████████| 1500/1500 [08:13<00:00,  3.04it/s]\n"
     ]
    }
   ],
   "source": [
    "ids = t.getImgIds()\n",
    "dest = r\"C:\\Users\\Computing\\OneDrive - University of Lincoln (1)\\Documents\\TACO_YOLO\"\n",
    "\n",
    "for imId in tqdm(ids): #for each image selected\n",
    "    #get image object from coco annotations\n",
    "    img = t.imgs[imId]\n",
    "        \n",
    "    #get file name and join it to data path\n",
    "    imp = os.path.join(taco_p, img['file_name'])\n",
    "  \n",
    "\n",
    "    #get new name for saving new image\n",
    "    new_im_name = img['file_name'].split(\"/\")[0] + \"_\" + img['file_name'].split(\"/\")[1].split(\".\")[0] + \".jpg\"\n",
    "    new_im_path = os.path.join(dest,\"images\")\n",
    "    new_im_path = os.path.join(new_im_path,new_im_name)\n",
    "    \n",
    "    #get image\n",
    "    gv_im = cv2.imread(imp)\n",
    "    \n",
    "    #get image width and height\n",
    "    width = img['width']\n",
    "    height = img['height']\n",
    "    \n",
    "    #get category ids\n",
    "    cat_ids = t.getCatIds()\n",
    "    \n",
    "    #get annotation ids\n",
    "    anns_ids = t.getAnnIds(imgIds=img['id'], catIds=cat_ids, iscrowd=None)\n",
    "    anns = t.loadAnns(anns_ids)\n",
    "\n",
    "\n",
    "    #for each annotation....\n",
    "    try:\n",
    "        cv2.imwrite(new_im_path, gv_im)\n",
    "    except:\n",
    "        print(img['file_name'], \"not found, skipping save\")\n",
    "        continue\n",
    "        \n",
    "    for i, ann in enumerate (anns):\n",
    "        #get bounding box\n",
    "        [x,y,w,h] = anns[i]['bbox']\n",
    "        \n",
    "        #convert bounding box to yolo format\n",
    "\n",
    "        #save to file\n",
    "        xcen = float(x + (w/2)) / width #normalise bboxes for yolo according to image size (YOLO is in format <class> <x centroid> <y centroid> <bb width> <bb height>)\n",
    "        ycen = float(y + (h/2)) / height\n",
    "\n",
    "        w = float(w) / width\n",
    "        h = float(h) / height\n",
    "\n",
    "        im_name = new_im_name.split('.')[:-1]\n",
    "        im_name.append('txt') #get image name from text name\n",
    "        ann_Txt = \".\".join(im_name)\n",
    "        dest_labels = os.path.join(dest,\"labels\") #save txt file as image name with extension change\n",
    "        dest_save = os.path.join(dest_labels,ann_Txt)\n",
    "        \n",
    "        with open(dest_save, 'a+') as f:\n",
    "            f.write(f\"0 {xcen} {ycen} {w} {h}\\n\")\n",
    "\n"
   ]
  },
  {
   "cell_type": "code",
   "execution_count": null,
   "id": "2f5e2064",
   "metadata": {},
   "outputs": [],
   "source": []
  }
 ],
 "metadata": {
  "kernelspec": {
   "display_name": "Python 3 (ipykernel)",
   "language": "python",
   "name": "python3"
  },
  "language_info": {
   "codemirror_mode": {
    "name": "ipython",
    "version": 3
   },
   "file_extension": ".py",
   "mimetype": "text/x-python",
   "name": "python",
   "nbconvert_exporter": "python",
   "pygments_lexer": "ipython3",
   "version": "3.9.16"
  }
 },
 "nbformat": 4,
 "nbformat_minor": 5
}
